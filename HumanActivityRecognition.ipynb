{
  "cells": [
    {
      "cell_type": "markdown",
      "metadata": {
        "id": "y0jxbHawt2O0"
      },
      "source": [
        "# Dataset Information\n",
        "The experiments have been carried out with a group of 30 volunteers within an age bracket of 19-48 years. Each person performed six activities (WALKING, WALKING_UPSTAIRS, WALKING_DOWNSTAIRS, SITTING, STANDING, LAYING) wearing a smartphone on the waist. Using its embedded accelerometer and gyroscope, we captured 3-axial linear acceleration and 3-axial angular velocity at a constant rate of 50Hz. The obtained dataset has been randomly partitioned into two sets, where 70% of the volunteers was selected for generating the training data and 30% the test data.\n",
        "\n",
        "The sensor signals (accelerometer and gyroscope) were pre-processed by applying noise filters and then sampled in fixed-width sliding windows of 2.56 sec and 50% overlap (128 readings/window). The sensor acceleration signal, which has gravitational and body motion components, was separated using a Butterworth low-pass filter into body acceleration and gravity. The gravitational force is assumed to have only low frequency components, therefore a filter with 0.3 Hz cutoff frequency was used. From each window, a vector of features was obtained by calculating variables from the time and frequency domain."
      ]
    },
    {
      "cell_type": "code",
      "execution_count": 9,
      "metadata": {
        "id": "18XsVHIlttEu"
      },
      "outputs": [],
      "source": [
        "import pandas as pd\n",
        "import numpy as np\n",
        "import tensorflow.compat.v1 as tf\n",
        "tf.disable_v2_behavior()\n",
        "import os\n",
        "from subprocess import call\n",
        "from keras import backend as K\n",
        "from keras.models import Sequential\n",
        "from keras.layers import LSTM\n",
        "from keras.layers.core import Dense, Dropout\n",
        "%matplotlib inline"
      ]
    },
    {
      "cell_type": "code",
      "execution_count": 10,
      "metadata": {
        "colab": {
          "base_uri": "https://localhost:8080/"
        },
        "id": "xjBGX7-CvPZ_",
        "outputId": "0df1b174-efc3-45c2-99c5-cbe62bf56e08"
      },
      "outputs": [
        {
          "output_type": "stream",
          "name": "stdout",
          "text": [
            "Downloading...\n",
            "Dataset already downloaded. Did not download twice.\n",
            "\n",
            "Extracting...\n",
            "Dataset already extracted. Did not extract twice.\n",
            "\n"
          ]
        }
      ],
      "source": [
        "print(\"Downloading...\")\n",
        "if not os.path.exists(\"UCI HAR Dataset.zip\"):\n",
        "    call('wget \"https://archive.ics.uci.edu/ml/machine-learning-databases/00240/UCI HAR Dataset.zip\"', shell=True)\n",
        "    print(\"Downloading done.\\n\")\n",
        "else:\n",
        "    print(\"Dataset already downloaded. Did not download twice.\\n\")\n",
        "\n",
        "print(\"Extracting...\")\n",
        "extract_directory = os.path.abspath(\"UCI HAR Dataset\")\n",
        "if not os.path.exists(extract_directory):\n",
        "    call('unzip -nq \"UCI HAR Dataset.zip\"', shell=True)\n",
        "    print(\"Extracting successfully done to {}.\".format(extract_directory))\n",
        "else:\n",
        "    print(\"Dataset already extracted. Did not extract twice.\\n\")"
      ]
    },
    {
      "cell_type": "code",
      "execution_count": 11,
      "metadata": {
        "id": "k4ugXfuOvtdz"
      },
      "outputs": [],
      "source": [
        "ACTIVITIES = {0: 'WALKING', 1: 'WALKING_UPSTAIRS', 2: 'WALKING_DOWNSTAIRS', 3: 'SITTING', 4: 'STANDING', 5: 'LAYING'}\n",
        "SIGNALS = [\"body_acc_x\", \"body_acc_y\", \"body_acc_z\", \"body_gyro_x\", \"body_gyro_y\", \"body_gyro_z\", \"total_acc_x\", \"total_acc_y\", \"total_acc_z\"]\n",
        "DATADIR = 'UCI HAR Dataset'"
      ]
    },
    {
      "cell_type": "code",
      "execution_count": 12,
      "metadata": {
        "id": "J4EDPnqowXxW"
      },
      "outputs": [],
      "source": [
        "def read_csv_file(filename):\n",
        "    return pd.read_csv(filename, delim_whitespace=True, header=None)"
      ]
    },
    {
      "cell_type": "code",
      "execution_count": 15,
      "metadata": {
        "id": "ELBHKR1MwdI8"
      },
      "outputs": [],
      "source": [
        "def load_signals(subset):\n",
        "    signals_data = []\n",
        "    for signal in SIGNALS:\n",
        "        filename = f'UCI HAR Dataset/{subset}/Inertial Signals/{signal}_{subset}.txt'\n",
        "        signals_data.append(read_csv_file(filename).values) \n",
        "    return np.transpose(signals_data, (1, 2, 0))"
      ]
    },
    {
      "cell_type": "code",
      "execution_count": 14,
      "metadata": {
        "id": "8ZC8O7O_wMLZ"
      },
      "outputs": [],
      "source": [
        "def load_label(subset):\n",
        "    filename = f'UCI HAR Dataset/{subset}/y_{subset}.txt'\n",
        "    y = read_csv_file(filename)[0]\n",
        "    return pd.get_dummies(y).values"
      ]
    },
    {
      "cell_type": "code",
      "execution_count": 16,
      "metadata": {
        "id": "laEpc_QOxEb1"
      },
      "outputs": [],
      "source": [
        "def load_data():\n",
        "    X_train, X_test = load_signals('train'), load_signals('test')\n",
        "    y_train, y_test = load_label('train'), load_label('test')\n",
        "    return X_train, X_test, y_train, y_test"
      ]
    },
    {
      "cell_type": "code",
      "execution_count": 17,
      "metadata": {
        "id": "znTbmlkLzw-k"
      },
      "outputs": [],
      "source": [
        "X_train, X_test, Y_train, Y_test = load_data()"
      ]
    },
    {
      "cell_type": "code",
      "source": [
        "print(f\"train data shape is : {X_train.shape[0]}X{X_train.shape[1]}X{X_train.shape[2]}\")\n",
        "print(f\"test data shape is : {X_test.shape[0]}X{X_test.shape[1]}X{X_test.shape[2]}\")\n",
        "print(f\"train data shape is : {Y_train.shape[0]}X{Y_train.shape[1]}\")\n",
        "print(f\"test data shape is : {Y_test.shape[0]}X{Y_test.shape[1]}\")"
      ],
      "metadata": {
        "colab": {
          "base_uri": "https://localhost:8080/"
        },
        "id": "Hisseto5-Mwx",
        "outputId": "79aacc3f-11ce-412f-b4c8-d8ecc3be2924"
      },
      "execution_count": 18,
      "outputs": [
        {
          "output_type": "stream",
          "name": "stdout",
          "text": [
            "train data shape is : 7352X128X9\n",
            "test data shape is : 2947X128X9\n",
            "train data shape is : 7352X6\n",
            "test data shape is : 2947X6\n"
          ]
        }
      ]
    },
    {
      "cell_type": "code",
      "execution_count": 19,
      "metadata": {
        "id": "JD-YXhpixLiN"
      },
      "outputs": [],
      "source": [
        "np.random.seed(42)\n",
        "tf.set_random_seed(42)"
      ]
    },
    {
      "cell_type": "code",
      "execution_count": 20,
      "metadata": {
        "id": "SiuXXbxjyMBp"
      },
      "outputs": [],
      "source": [
        "session_conf = tf.ConfigProto(intra_op_parallelism_threads=1, inter_op_parallelism_threads=1)\n",
        "sess = tf.Session(graph=tf.get_default_graph(), config=session_conf)\n",
        "K.set_session(sess)"
      ]
    },
    {
      "cell_type": "code",
      "execution_count": 21,
      "metadata": {
        "id": "BgqNzcg8yrXI"
      },
      "outputs": [],
      "source": [
        "def _count_classes(y):\n",
        "    return len(set([tuple(category) for category in y]))"
      ]
    },
    {
      "cell_type": "code",
      "execution_count": 22,
      "metadata": {
        "id": "8b-n5abbyd1Z"
      },
      "outputs": [],
      "source": [
        "epochs = 30\n",
        "batch_size = 16\n",
        "n_hidden = 32"
      ]
    },
    {
      "cell_type": "code",
      "execution_count": 23,
      "metadata": {
        "id": "VLU7-sfdyw21",
        "colab": {
          "base_uri": "https://localhost:8080/"
        },
        "outputId": "783948c0-a94b-459c-a1a2-430d02f9e204"
      },
      "outputs": [
        {
          "output_type": "stream",
          "name": "stdout",
          "text": [
            "128\n",
            "9\n",
            "7352\n"
          ]
        }
      ],
      "source": [
        "timesteps = len(X_train[0])\n",
        "input_dim = len(X_train[0][0])\n",
        "n_classes = _count_classes(Y_train)\n",
        "\n",
        "print(timesteps)\n",
        "print(input_dim)\n",
        "print(len(X_train))"
      ]
    },
    {
      "cell_type": "code",
      "execution_count": 24,
      "metadata": {
        "id": "GH4UVogZy1BU",
        "colab": {
          "base_uri": "https://localhost:8080/"
        },
        "outputId": "cfb82510-987d-4cf5-c383-836d9c747cbb"
      },
      "outputs": [
        {
          "output_type": "stream",
          "name": "stdout",
          "text": [
            "Model: \"sequential\"\n",
            "_________________________________________________________________\n",
            " Layer (type)                Output Shape              Param #   \n",
            "=================================================================\n",
            " lstm (LSTM)                 (None, 32)                5376      \n",
            "                                                                 \n",
            " dropout (Dropout)           (None, 32)                0         \n",
            "                                                                 \n",
            " dense (Dense)               (None, 6)                 198       \n",
            "                                                                 \n",
            "=================================================================\n",
            "Total params: 5,574\n",
            "Trainable params: 5,574\n",
            "Non-trainable params: 0\n",
            "_________________________________________________________________\n"
          ]
        }
      ],
      "source": [
        "model = Sequential()\n",
        "model.add(LSTM(n_hidden, input_shape=(timesteps, input_dim)))\n",
        "model.add(Dropout(0.5))\n",
        "model.add(Dense(n_classes, activation='sigmoid'))\n",
        "model.summary()"
      ]
    },
    {
      "cell_type": "code",
      "execution_count": 25,
      "metadata": {
        "id": "qaBTqz7Dy4oU"
      },
      "outputs": [],
      "source": [
        "model.compile(loss='categorical_crossentropy', optimizer='rmsprop', metrics=['accuracy'])"
      ]
    },
    {
      "cell_type": "code",
      "execution_count": 26,
      "metadata": {
        "id": "yBLBCEB0zCUD",
        "colab": {
          "base_uri": "https://localhost:8080/"
        },
        "outputId": "f378aae6-3b26-4e94-b20b-015e05bbf987"
      },
      "outputs": [
        {
          "output_type": "stream",
          "name": "stdout",
          "text": [
            "Train on 7352 samples, validate on 2947 samples\n",
            "Epoch 1/30\n",
            "7344/7352 [============================>.] - ETA: 0s - loss: 1.1966 - acc: 0.5074"
          ]
        },
        {
          "output_type": "stream",
          "name": "stderr",
          "text": [
            "/usr/local/lib/python3.8/dist-packages/keras/engine/training_v1.py:2045: UserWarning: `Model.state_updates` will be removed in a future version. This property should not be used in TensorFlow 2.0, as `updates` are applied automatically.\n",
            "  updates = self.state_updates\n"
          ]
        },
        {
          "output_type": "stream",
          "name": "stdout",
          "text": [
            "\b\b\b\b\b\b\b\b\b\b\b\b\b\b\b\b\b\b\b\b\b\b\b\b\b\b\b\b\b\b\b\b\b\b\b\b\b\b\b\b\b\b\b\b\b\b\b\b\b\b\b\b\b\b\b\b\b\b\b\b\b\b\b\b\b\b\b\b\b\b\b\b\b\b\b\b\b\b\b\b\b\r7352/7352 [==============================] - 10s 1ms/sample - loss: 1.1965 - acc: 0.5072 - val_loss: 1.0115 - val_acc: 0.5826\n",
            "Epoch 2/30\n",
            "7352/7352 [==============================] - 9s 1ms/sample - loss: 0.7557 - acc: 0.7039 - val_loss: 0.7338 - val_acc: 0.7146\n",
            "Epoch 3/30\n",
            "7352/7352 [==============================] - 9s 1ms/sample - loss: 0.6353 - acc: 0.7428 - val_loss: 0.6440 - val_acc: 0.7801\n",
            "Epoch 4/30\n",
            "7352/7352 [==============================] - 10s 1ms/sample - loss: 0.5714 - acc: 0.7708 - val_loss: 0.6450 - val_acc: 0.7784\n",
            "Epoch 5/30\n",
            "7352/7352 [==============================] - 10s 1ms/sample - loss: 0.5340 - acc: 0.7874 - val_loss: 0.7425 - val_acc: 0.7224\n",
            "Epoch 6/30\n",
            "7352/7352 [==============================] - 10s 1ms/sample - loss: 0.4099 - acc: 0.8538 - val_loss: 0.5065 - val_acc: 0.8229\n",
            "Epoch 7/30\n",
            "7352/7352 [==============================] - 10s 1ms/sample - loss: 0.3339 - acc: 0.8934 - val_loss: 0.5773 - val_acc: 0.8320\n",
            "Epoch 8/30\n",
            "7352/7352 [==============================] - 10s 1ms/sample - loss: 0.2935 - acc: 0.9106 - val_loss: 0.3281 - val_acc: 0.8843\n",
            "Epoch 9/30\n",
            "7352/7352 [==============================] - 12s 2ms/sample - loss: 0.2617 - acc: 0.9159 - val_loss: 0.3267 - val_acc: 0.8873\n",
            "Epoch 10/30\n",
            "7352/7352 [==============================] - 10s 1ms/sample - loss: 0.2428 - acc: 0.9249 - val_loss: 0.4334 - val_acc: 0.8660\n",
            "Epoch 11/30\n",
            "7352/7352 [==============================] - 11s 1ms/sample - loss: 0.2614 - acc: 0.9200 - val_loss: 0.4381 - val_acc: 0.8806\n",
            "Epoch 12/30\n",
            "7352/7352 [==============================] - 10s 1ms/sample - loss: 0.2355 - acc: 0.9286 - val_loss: 0.4952 - val_acc: 0.8670\n",
            "Epoch 13/30\n",
            "7352/7352 [==============================] - 9s 1ms/sample - loss: 0.2050 - acc: 0.9350 - val_loss: 0.3345 - val_acc: 0.9030\n",
            "Epoch 14/30\n",
            "7352/7352 [==============================] - 10s 1ms/sample - loss: 0.1833 - acc: 0.9362 - val_loss: 0.3285 - val_acc: 0.8823\n",
            "Epoch 15/30\n",
            "7352/7352 [==============================] - 10s 1ms/sample - loss: 0.1701 - acc: 0.9411 - val_loss: 0.3987 - val_acc: 0.8894\n",
            "Epoch 16/30\n",
            "7352/7352 [==============================] - 10s 1ms/sample - loss: 0.1979 - acc: 0.9384 - val_loss: 0.3295 - val_acc: 0.8924\n",
            "Epoch 17/30\n",
            "7352/7352 [==============================] - 9s 1ms/sample - loss: 0.1825 - acc: 0.9414 - val_loss: 0.2624 - val_acc: 0.9104\n",
            "Epoch 18/30\n",
            "7352/7352 [==============================] - 9s 1ms/sample - loss: 0.1659 - acc: 0.9430 - val_loss: 0.2974 - val_acc: 0.9040\n",
            "Epoch 19/30\n",
            "7352/7352 [==============================] - 9s 1ms/sample - loss: 0.1677 - acc: 0.9468 - val_loss: 0.2969 - val_acc: 0.8996\n",
            "Epoch 20/30\n",
            "7352/7352 [==============================] - 9s 1ms/sample - loss: 0.1673 - acc: 0.9449 - val_loss: 0.3681 - val_acc: 0.8999\n",
            "Epoch 21/30\n",
            "7352/7352 [==============================] - 9s 1ms/sample - loss: 0.1711 - acc: 0.9412 - val_loss: 0.3170 - val_acc: 0.9060\n",
            "Epoch 22/30\n",
            "7352/7352 [==============================] - 9s 1ms/sample - loss: 0.1565 - acc: 0.9455 - val_loss: 0.3298 - val_acc: 0.9070\n",
            "Epoch 23/30\n",
            "7352/7352 [==============================] - 10s 1ms/sample - loss: 0.1540 - acc: 0.9456 - val_loss: 0.4062 - val_acc: 0.9009\n",
            "Epoch 24/30\n",
            "7352/7352 [==============================] - 10s 1ms/sample - loss: 0.1468 - acc: 0.9465 - val_loss: 0.2714 - val_acc: 0.9131\n",
            "Epoch 25/30\n",
            "7352/7352 [==============================] - 10s 1ms/sample - loss: 0.1537 - acc: 0.9446 - val_loss: 0.3330 - val_acc: 0.9013\n",
            "Epoch 26/30\n",
            "7352/7352 [==============================] - 10s 1ms/sample - loss: 0.1438 - acc: 0.9495 - val_loss: 0.3938 - val_acc: 0.8996\n",
            "Epoch 27/30\n",
            "7352/7352 [==============================] - 11s 1ms/sample - loss: 0.1382 - acc: 0.9499 - val_loss: 0.3778 - val_acc: 0.9057\n",
            "Epoch 28/30\n",
            "7352/7352 [==============================] - 10s 1ms/sample - loss: 0.1557 - acc: 0.9457 - val_loss: 0.3563 - val_acc: 0.9209\n",
            "Epoch 29/30\n",
            "7352/7352 [==============================] - 10s 1ms/sample - loss: 0.1673 - acc: 0.9474 - val_loss: 0.3304 - val_acc: 0.9128\n",
            "Epoch 30/30\n",
            "7352/7352 [==============================] - 10s 1ms/sample - loss: 0.1412 - acc: 0.9440 - val_loss: 0.3597 - val_acc: 0.9013\n"
          ]
        },
        {
          "output_type": "execute_result",
          "data": {
            "text/plain": [
              "<keras.callbacks.History at 0x7f015c9d71f0>"
            ]
          },
          "metadata": {},
          "execution_count": 26
        }
      ],
      "source": [
        "model.fit(X_train, Y_train, batch_size=batch_size, validation_data=(X_test, Y_test), epochs=epochs)"
      ]
    },
    {
      "cell_type": "code",
      "source": [
        "import seaborn as sns\n",
        "def confusion_matrix(Y_true, Y_pred):\n",
        "    Y_true = pd.Series([ACTIVITIES[y] for y in np.argmax(Y_true, axis=1)])\n",
        "    Y_pred = pd.Series([ACTIVITIES[y] for y in np.argmax(Y_pred, axis=1)])\n",
        "\n",
        "    return sns.heatmap(pd.crosstab(Y_true, Y_pred, rownames=['True'], colnames=['Pred']), annot=True)"
      ],
      "metadata": {
        "id": "FoYJsHwT_1Dy"
      },
      "execution_count": 29,
      "outputs": []
    },
    {
      "cell_type": "code",
      "execution_count": 30,
      "metadata": {
        "id": "3ML5CjkWzSe_",
        "colab": {
          "base_uri": "https://localhost:8080/",
          "height": 405
        },
        "outputId": "e35bff64-65a7-4086-8150-a468c4706619"
      },
      "outputs": [
        {
          "output_type": "stream",
          "name": "stdout",
          "text": [
            "AxesSubplot(0.125,0.125;0.62x0.755)\n"
          ]
        },
        {
          "output_type": "display_data",
          "data": {
            "text/plain": [
              "<Figure size 432x288 with 2 Axes>"
            ],
            "image/png": "[encoded data removed]"
          },
          "metadata": {
            "needs_background": "light"
          }
        }
      ],
      "source": [
        "print(confusion_matrix(Y_test, model.predict(X_test)))"
      ]
    },
    {
      "cell_type": "code",
      "execution_count": 31,
      "metadata": {
        "id": "PqdaJWuxzYg1"
      },
      "outputs": [],
      "source": [
        "score = model.evaluate(X_test, Y_test)"
      ]
    },
    {
      "cell_type": "code",
      "execution_count": 32,
      "metadata": {
        "id": "J3mhp9PvzbfT",
        "colab": {
          "base_uri": "https://localhost:8080/"
        },
        "outputId": "086e9cda-8c0e-40ff-f45c-94a312994fa6"
      },
      "outputs": [
        {
          "output_type": "execute_result",
          "data": {
            "text/plain": [
              "[0.3596688051601745, 0.9012555]"
            ]
          },
          "metadata": {},
          "execution_count": 32
        }
      ],
      "source": [
        "score"
      ]
    }
  ],
  "metadata": {
    "colab": {
      "provenance": []
    },
    "kernelspec": {
      "display_name": "Python 3",
      "name": "python3"
    },
    "language_info": {
      "name": "python"
    }
  },
  "nbformat": 4,
  "nbformat_minor": 0
}